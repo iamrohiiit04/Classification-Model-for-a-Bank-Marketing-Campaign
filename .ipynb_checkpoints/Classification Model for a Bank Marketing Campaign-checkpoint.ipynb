{
 "cells": [
  {
   "cell_type": "markdown",
   "id": "105877c8",
   "metadata": {},
   "source": [
    "# Classification Model for a Bank Marketing Campaign"
   ]
  },
  {
   "cell_type": "markdown",
   "id": "5d755c21",
   "metadata": {},
   "source": [
    "**Data Set and Exploring Data set -**"
   ]
  },
  {
   "cell_type": "code",
   "execution_count": null,
   "id": "f9922680",
   "metadata": {},
   "outputs": [],
   "source": [
    "bank_customer_details <- read.csv('bank.csv')"
   ]
  },
  {
   "cell_type": "code",
   "execution_count": null,
   "id": "1c0368ee",
   "metadata": {
    "scrolled": true
   },
   "outputs": [],
   "source": [
    "nrow(bank_customer_details)"
   ]
  },
  {
   "cell_type": "code",
   "execution_count": null,
   "id": "c5884cf5",
   "metadata": {
    "scrolled": true
   },
   "outputs": [],
   "source": [
    "ls(bank_customer_details)"
   ]
  },
  {
   "cell_type": "code",
   "execution_count": null,
   "id": "68c27cfa",
   "metadata": {},
   "outputs": [],
   "source": [
    "ncol(bank_customer_details)"
   ]
  },
  {
   "cell_type": "code",
   "execution_count": null,
   "id": "67a92e8a",
   "metadata": {},
   "outputs": [],
   "source": [
    "head(bank_customer_details)"
   ]
  },
  {
   "cell_type": "code",
   "execution_count": null,
   "id": "a38c6151",
   "metadata": {},
   "outputs": [],
   "source": [
    "str(bank_customer_details)"
   ]
  },
  {
   "cell_type": "code",
   "execution_count": null,
   "id": "b8dedaf1",
   "metadata": {
    "scrolled": true
   },
   "outputs": [],
   "source": [
    "summary(bank_customer_details)"
   ]
  },
  {
   "cell_type": "markdown",
   "id": "c3c3226a",
   "metadata": {},
   "source": [
    "**Checking for Null Values**"
   ]
  },
  {
   "cell_type": "code",
   "execution_count": null,
   "id": "3f8a1f34",
   "metadata": {},
   "outputs": [],
   "source": [
    "sapply(bank_customer_details,function(x) sum(is.na(x)))"
   ]
  },
  {
   "cell_type": "markdown",
   "id": "eeec536f",
   "metadata": {},
   "source": [
    "**Transforming Data Type**"
   ]
  },
  {
   "cell_type": "code",
   "execution_count": null,
   "id": "ede87e66",
   "metadata": {},
   "outputs": [],
   "source": [
    "bank_customer_details$job <- as.factor(bank_customer_details$job)\n",
    "bank_customer_details$marital <- as.factor(bank_customer_details$marital)\n",
    "bank_customer_details$education <- as.factor(bank_customer_details$education)\n",
    "bank_customer_details$default <- as.factor(bank_customer_details$default)\n",
    "bank_customer_details$housing <- as.factor(bank_customer_details$housing)\n",
    "bank_customer_details$loan <- as.factor(bank_customer_details$loan)\n",
    "bank_customer_details$contact <- as.factor(bank_customer_details$contact)\n",
    "bank_customer_details$month <- as.factor(bank_customer_details$month)\n",
    "bank_customer_details$poutcome <- as.factor(bank_customer_details$poutcome)\n",
    "bank_customer_details$y <- as.factor(bank_customer_details$y)"
   ]
  },
  {
   "cell_type": "code",
   "execution_count": null,
   "id": "762ea74b",
   "metadata": {
    "scrolled": true
   },
   "outputs": [],
   "source": [
    "summary(bank_customer_details)"
   ]
  },
  {
   "cell_type": "markdown",
   "id": "b3131698",
   "metadata": {},
   "source": [
    "**Model 1**"
   ]
  },
  {
   "cell_type": "code",
   "execution_count": null,
   "id": "51f8e3de",
   "metadata": {},
   "outputs": [],
   "source": [
    "logistic_regression_model_1 <- glm(y ~ ., data = bank_customer_details, family = 'binomial')"
   ]
  },
  {
   "cell_type": "code",
   "execution_count": null,
   "id": "7091cac8",
   "metadata": {},
   "outputs": [],
   "source": [
    "summary(logistic_regression_model_1)"
   ]
  },
  {
   "cell_type": "code",
   "execution_count": null,
   "id": "138901fc",
   "metadata": {},
   "outputs": [],
   "source": [
    "actual <- bank_customer_details$y\n",
    "predicted <- round(fitted(logistic_regression_model_1))\n",
    "xt_logistic_regression_model_1 <- xtabs(~ actual + predicted)\n",
    "xt_logistic_regression_model_1"
   ]
  },
  {
   "cell_type": "code",
   "execution_count": null,
   "id": "7b19d68a",
   "metadata": {
    "scrolled": true
   },
   "outputs": [],
   "source": [
    "accuracy <- (xt_logistic_regression_model_1[1,1]+xt_logistic_regression_model_1[2,2])/sum(xt_logistic_regression_model_1)\n",
    "round(accuracy,3)"
   ]
  },
  {
   "cell_type": "code",
   "execution_count": null,
   "id": "75b3447e",
   "metadata": {},
   "outputs": [],
   "source": [
    "par(mfrow=c(2,2)) \n",
    "plot(logistic_regression_model_1)"
   ]
  },
  {
   "cell_type": "markdown",
   "id": "3fea283a",
   "metadata": {},
   "source": [
    "**Model 2 -**"
   ]
  },
  {
   "cell_type": "code",
   "execution_count": null,
   "id": "55ca411e",
   "metadata": {},
   "outputs": [],
   "source": [
    "logistic_regression_model_2 <- glm(y ~ job + marital + housing + loan + contact + day + month + duration + campaign + poutcome, data = bank_customer_details, family = 'binomial')"
   ]
  },
  {
   "cell_type": "code",
   "execution_count": null,
   "id": "44ba83c8",
   "metadata": {},
   "outputs": [],
   "source": [
    "summary(logistic_regression_model_2)"
   ]
  },
  {
   "cell_type": "code",
   "execution_count": null,
   "id": "bd1292f7",
   "metadata": {},
   "outputs": [],
   "source": [
    "actual <- bank_customer_details$y\n",
    "predicted <- round(fitted(logistic_regression_model_2))\n",
    "xt_logistic_regression_model_2 <- xtabs(~ actual + predicted)\n",
    "xt_logistic_regression_model_2"
   ]
  },
  {
   "cell_type": "code",
   "execution_count": null,
   "id": "9508a986",
   "metadata": {},
   "outputs": [],
   "source": [
    "accuracy <- (xt_logistic_regression_model_2[1,1]+xt_logistic_regression_model_2[2,2])/sum(xt_logistic_regression_model_2)\n",
    "round(accuracy,3)"
   ]
  },
  {
   "cell_type": "code",
   "execution_count": null,
   "id": "85e5d1f8",
   "metadata": {
    "scrolled": true
   },
   "outputs": [],
   "source": [
    "par(mfrow=c(2,2)) \n",
    "plot(logistic_regression_model_2)"
   ]
  },
  {
   "cell_type": "markdown",
   "id": "0b0b01d5",
   "metadata": {},
   "source": [
    "**Checking VIF**"
   ]
  },
  {
   "cell_type": "code",
   "execution_count": null,
   "id": "d3e96a54",
   "metadata": {},
   "outputs": [],
   "source": [
    "library(car)"
   ]
  },
  {
   "cell_type": "code",
   "execution_count": null,
   "id": "9c83cefd",
   "metadata": {},
   "outputs": [],
   "source": [
    "round(min(vif(logistic_regression_model_2)))"
   ]
  },
  {
   "cell_type": "markdown",
   "id": "172651d9",
   "metadata": {},
   "source": [
    "**Model 3 -**"
   ]
  },
  {
   "cell_type": "markdown",
   "id": "07315f96",
   "metadata": {},
   "source": [
    "PCA -"
   ]
  },
  {
   "cell_type": "code",
   "execution_count": null,
   "id": "a9695515",
   "metadata": {},
   "outputs": [],
   "source": [
    "bank_customer_details_famd_dataset <- subset(bank_customer_details, select = -y)"
   ]
  },
  {
   "cell_type": "code",
   "execution_count": null,
   "id": "5b48e86a",
   "metadata": {},
   "outputs": [],
   "source": [
    "head(bank_customer_details_famd_dataset)"
   ]
  },
  {
   "cell_type": "code",
   "execution_count": null,
   "id": "6739c809",
   "metadata": {},
   "outputs": [],
   "source": [
    "#install.packages(\"FactoMineR\")\n",
    "#install.packages(\"vcd\")\n",
    "#install.packages(\"factoextra\")"
   ]
  },
  {
   "cell_type": "code",
   "execution_count": null,
   "id": "20155333",
   "metadata": {},
   "outputs": [],
   "source": [
    "#library(FactoMineR)\n",
    "#library(vcd)\n",
    "library(factoextra)"
   ]
  },
  {
   "cell_type": "code",
   "execution_count": null,
   "id": "3d48fb20",
   "metadata": {},
   "outputs": [],
   "source": [
    "bank_customer_details_famd <- FAMD(bank_customer_details_famd_dataset, graph=FALSE)"
   ]
  },
  {
   "cell_type": "code",
   "execution_count": null,
   "id": "00d9db37",
   "metadata": {},
   "outputs": [],
   "source": [
    "bank_customer_details_famd"
   ]
  },
  {
   "cell_type": "code",
   "execution_count": null,
   "id": "fd3bcff3",
   "metadata": {},
   "outputs": [],
   "source": [
    "bank_customer_details_famd$eig"
   ]
  },
  {
   "cell_type": "code",
   "execution_count": null,
   "id": "c1206792",
   "metadata": {},
   "outputs": [],
   "source": [
    "fviz_screeplot(bank_customer_details_famd)"
   ]
  },
  {
   "cell_type": "code",
   "execution_count": null,
   "id": "0e894a51",
   "metadata": {},
   "outputs": [],
   "source": [
    "# Plot of variables\n",
    "fviz_famd_var(bank_customer_details_famd, repel = TRUE)\n",
    "# Contribution to the first dimension\n",
    "fviz_contrib(bank_customer_details_famd, \"var\", axes = 1)\n",
    "# Contribution to the second dimension\n",
    "fviz_contrib(bank_customer_details_famd, \"var\", axes = 2)\n",
    "fviz_contrib(bank_customer_details_famd, \"var\", axes = 3)\n",
    "fviz_contrib(bank_customer_details_famd, \"var\", axes = 4)\n",
    "fviz_contrib(bank_customer_details_famd, \"var\", axes = 5)"
   ]
  },
  {
   "cell_type": "code",
   "execution_count": null,
   "id": "8e214cd6",
   "metadata": {},
   "outputs": [],
   "source": [
    "var <- bank_customer_details_famd$var\n",
    "var$contrib"
   ]
  },
  {
   "cell_type": "code",
   "execution_count": null,
   "id": "947185d0",
   "metadata": {},
   "outputs": [],
   "source": [
    "var$contrib"
   ]
  },
  {
   "cell_type": "code",
   "execution_count": null,
   "id": "ab278b1f",
   "metadata": {},
   "outputs": [],
   "source": [
    "pca_data <- as.data.frame(bank_customer_details_famd$ind$coord)"
   ]
  },
  {
   "cell_type": "code",
   "execution_count": null,
   "id": "e030046e",
   "metadata": {},
   "outputs": [],
   "source": [
    "head(pca_data)"
   ]
  },
  {
   "cell_type": "code",
   "execution_count": null,
   "id": "6a6312a6",
   "metadata": {},
   "outputs": [],
   "source": [
    "pca_data$y <- bank_customer_details$y"
   ]
  },
  {
   "cell_type": "code",
   "execution_count": null,
   "id": "b4b7f420",
   "metadata": {},
   "outputs": [],
   "source": [
    "head(pca_data)"
   ]
  },
  {
   "cell_type": "code",
   "execution_count": null,
   "id": "1a7295d6",
   "metadata": {},
   "outputs": [],
   "source": [
    "logistic_regression_model_3 <- glm(y ~ Dim.1 + Dim.2 + Dim.3 + Dim.4 + Dim.5, data = pca_data, family = 'binomial')"
   ]
  },
  {
   "cell_type": "code",
   "execution_count": null,
   "id": "cec656f2",
   "metadata": {},
   "outputs": [],
   "source": [
    "summary(logistic_regression_model_3)"
   ]
  },
  {
   "cell_type": "code",
   "execution_count": null,
   "id": "f53dbcac",
   "metadata": {},
   "outputs": [],
   "source": [
    "actual <- pca_data$y\n",
    "predicted <- round(fitted(logistic_regression_model_3))\n",
    "xt_logistic_regression_model_3 <- xtabs(~ actual + predicted)\n",
    "xt_logistic_regression_model_3"
   ]
  },
  {
   "cell_type": "code",
   "execution_count": null,
   "id": "71e589de",
   "metadata": {},
   "outputs": [],
   "source": [
    "accuracy <- (xt_logistic_regression_model_3[1,1]+xt_logistic_regression_model_3[2,2])/sum(xt_logistic_regression_model_3)\n",
    "round(accuracy,3)"
   ]
  },
  {
   "cell_type": "markdown",
   "id": "499acdbf",
   "metadata": {},
   "source": [
    "**Model 4-**"
   ]
  },
  {
   "cell_type": "code",
   "execution_count": null,
   "id": "0b9d2b03",
   "metadata": {},
   "outputs": [],
   "source": [
    "ggplot(data.frame(bank_customer_details$y) , aes(x=bank_customer_details$y)) + geom_bar(fill = \"steelblue\") + xlab(\"y\")"
   ]
  },
  {
   "cell_type": "code",
   "execution_count": null,
   "id": "af12620d",
   "metadata": {},
   "outputs": [],
   "source": [
    "table(bank_customer_details$y)"
   ]
  },
  {
   "cell_type": "code",
   "execution_count": null,
   "id": "632355c7",
   "metadata": {},
   "outputs": [],
   "source": [
    "prop.table(table(bank_customer_details$y))"
   ]
  },
  {
   "cell_type": "code",
   "execution_count": null,
   "id": "1c7f386f",
   "metadata": {},
   "outputs": [],
   "source": [
    "library(ROSE)"
   ]
  },
  {
   "cell_type": "code",
   "execution_count": null,
   "id": "2047d96c",
   "metadata": {},
   "outputs": [],
   "source": [
    "sampled_bank_customer_details <- ROSE(y ~.,data = bank_customer_details)$data"
   ]
  },
  {
   "cell_type": "code",
   "execution_count": null,
   "id": "a1078c72",
   "metadata": {},
   "outputs": [],
   "source": [
    "ggplot(data.frame(sampled_bank_customer_details$y) , aes(x = sampled_bank_customer_details$y)) + geom_bar(fill = \"steelblue\") + xlab(\"y\")"
   ]
  },
  {
   "cell_type": "code",
   "execution_count": null,
   "id": "66f915d0",
   "metadata": {},
   "outputs": [],
   "source": [
    "logistic_regression_model_4 <- glm(y ~ ., data = sampled_bank_customer_details, family = 'binomial')"
   ]
  },
  {
   "cell_type": "code",
   "execution_count": null,
   "id": "f34d96cd",
   "metadata": {},
   "outputs": [],
   "source": [
    "summary(logistic_regression_model_4)"
   ]
  },
  {
   "cell_type": "code",
   "execution_count": null,
   "id": "6b73d965",
   "metadata": {},
   "outputs": [],
   "source": [
    "actual <- sampled_bank_customer_details$y\n",
    "predicted <- round(fitted(logistic_regression_model_4))\n",
    "xt_logistic_regression_model_4 <- xtabs(~ actual + predicted)\n",
    "xt_logistic_regression_model_4"
   ]
  },
  {
   "cell_type": "code",
   "execution_count": null,
   "id": "5e4dfa98",
   "metadata": {},
   "outputs": [],
   "source": [
    "accuracy <- (xt_logistic_regression_model_4[1,1]+xt_logistic_regression_model_4[2,2])/sum(xt_logistic_regression_model_4)\n",
    "round(accuracy,3)"
   ]
  }
 ],
 "metadata": {
  "kernelspec": {
   "display_name": "R",
   "language": "R",
   "name": "ir"
  },
  "language_info": {
   "codemirror_mode": "r",
   "file_extension": ".r",
   "mimetype": "text/x-r-source",
   "name": "R",
   "pygments_lexer": "r",
   "version": "4.2.1"
  },
  "toc": {
   "base_numbering": 1,
   "nav_menu": {},
   "number_sections": true,
   "sideBar": true,
   "skip_h1_title": false,
   "title_cell": "Table of Contents",
   "title_sidebar": "Contents",
   "toc_cell": false,
   "toc_position": {},
   "toc_section_display": true,
   "toc_window_display": false
  }
 },
 "nbformat": 4,
 "nbformat_minor": 5
}
